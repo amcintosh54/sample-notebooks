{
 "cells": [
  {
   "cell_type": "code",
   "execution_count": null,
   "metadata": {
    "slideshow": {
     "slide_type": "skip"
    }
   },
   "outputs": [],
   "source": [
    "from lusidtools.jupyter_tools import toggle_code\n",
    "\n",
    "\"\"\"Loading and calculating returns\n",
    "\n",
    "Demonstration of how to load and calculate returns in LUSID.\n",
    "\n",
    "Attributes\n",
    "----------\n",
    "Returns\n",
    "\"\"\"\n",
    "\n",
    "toggle_code(\"Toggle Docstring\")"
   ]
  },
  {
   "cell_type": "markdown",
   "metadata": {
    "slideshow": {
     "slide_type": "slide"
    }
   },
   "source": [
    "# Loading and calculating returns in LUSID\n",
    "\n",
    "This notebook shows how you can load and calculate returns in LUSID. In the cells below, we load a CSV file of daily returns over a 5 year period (approximately). We then use LUSID to calculate various return metrics:\n",
    "\n",
    "* Daily\n",
    "* Since inception\n",
    "* Week-to-date (WTD), Month-to-date (MTD), Quarter-to-date (QTD), Year-to-date (YTD)\n",
    "* 1 month (1M), 3 months (3M), 1 Year (1Y)\n",
    "* Since a specific date\n",
    "* Annualised since incorporation\n",
    "* 5 year annualised\n"
   ]
  },
  {
   "cell_type": "markdown",
   "metadata": {
    "slideshow": {
     "slide_type": "skip"
    }
   },
   "source": [
    "# Setup LUSID"
   ]
  },
  {
   "cell_type": "code",
   "execution_count": null,
   "metadata": {
    "slideshow": {
     "slide_type": "skip"
    }
   },
   "outputs": [],
   "source": [
    "# Import general purpose packages\n",
    "import os\n",
    "import json\n",
    "import pandas as pd\n",
    "import numpy as np\n",
    "import datetime\n",
    "import pytz\n",
    "import warnings\n",
    "\n",
    "warnings.filterwarnings(\"ignore\", module=\"matplotlib*\")\n",
    "\n",
    "import matplotlib.pyplot as plt\n",
    "\n",
    "from datetime import datetime, timedelta\n",
    "\n",
    "# Import lusid specific packages\n",
    "import lusid\n",
    "import lusid.models as models\n",
    "\n",
    "from lusid.utilities import ApiClientFactory\n",
    "from lusidjam.refreshing_token import RefreshingToken\n",
    "\n",
    "# Set display configuration\n",
    "pd.set_option(\"display.max_columns\", None)\n",
    "pd.set_option(\"display.float_format\", lambda x: \"%.5f\" % x)\n",
    "pd.set_option(\"display.max_rows\", 3500)\n",
    "pd.set_option(\"max_colwidth\", 20)\n",
    "\n",
    "# Use line magic function to enable matplotlib to work interactively with iPython\n",
    "%matplotlib inline\n",
    "\n",
    "# Set style to fivethirtyeight to create clean and clear looking graphs\n",
    "plt.style.use(\"fivethirtyeight\")\n",
    "\n",
    "# Define a dictionary containing default plotting configurations\n",
    "params = {\n",
    "    \"legend.fontsize\": \"small\",\n",
    "    \"figure.figsize\": (12, 4.5),\n",
    "    \"axes.labelsize\": \"small\",\n",
    "    \"axes.titlesize\": \"medium\",\n",
    "    \"xtick.labelsize\": \"small\",\n",
    "    \"ytick.labelsize\": \"small\",\n",
    "}\n",
    "\n",
    "plt.rcParams.update(params)\n",
    "\n",
    "# Authenticate our user and create our API client\n",
    "secrets_path = os.getenv(\"FBN_SECRETS_PATH\")\n",
    "\n",
    "# Initiate an API Factory which is the client side object for interacting with LUSID APIs\n",
    "api_factory = lusid.utilities.ApiClientFactory(\n",
    "    token=RefreshingToken(),\n",
    "    api_secrets_filename=secrets_path,\n",
    "    app_name=\"LusidJupyterNotebook\",\n",
    ")\n",
    "\n",
    "api_status = pd.DataFrame(\n",
    "    api_factory.build(lusid.api.ApplicationMetadataApi).get_lusid_versions().to_dict()\n",
    ")\n",
    "\n",
    "display(api_status)"
   ]
  },
  {
   "cell_type": "markdown",
   "metadata": {
    "slideshow": {
     "slide_type": "slide"
    }
   },
   "source": [
    "# Setup defaults"
   ]
  },
  {
   "cell_type": "code",
   "execution_count": null,
   "metadata": {
    "slideshow": {
     "slide_type": "fragment"
    }
   },
   "outputs": [],
   "source": [
    "# Define a scope to hold data\n",
    "\n",
    "scope = \"returns\"\n",
    "portfolio_code = \"UK_EQUITY\"\n",
    "\n",
    "# Define the APIs we use\n",
    "\n",
    "transaction_portfolios_api = api_factory.build(lusid.api.TransactionPortfoliosApi)\n",
    "portfolios_api = api_factory.build(lusid.api.PortfoliosApi)\n",
    "\n",
    "# Define dates\n",
    "start_date = datetime(year=2020, month=1, day=2, tzinfo=pytz.UTC).isoformat\n",
    "number_of_days = 366"
   ]
  },
  {
   "cell_type": "markdown",
   "metadata": {
    "slideshow": {
     "slide_type": "slide"
    }
   },
   "source": [
    "# Create a portfolio"
   ]
  },
  {
   "cell_type": "code",
   "execution_count": null,
   "metadata": {
    "slideshow": {
     "slide_type": "fragment"
    }
   },
   "outputs": [],
   "source": [
    "portfolios = [portfolio_code]\n",
    "\n",
    "for port in portfolios:\n",
    "\n",
    "    try:\n",
    "\n",
    "        response = transaction_portfolios_api.create_portfolio(\n",
    "            scope=scope,\n",
    "            create_transaction_portfolio_request=models.CreateTransactionPortfolioRequest(\n",
    "                display_name=port, code=port, created=\"2013-12-30\", base_currency=\"GBP\"\n",
    "            ),\n",
    "        )\n",
    "    except lusid.ApiException as e:\n",
    "        print(json.loads(e.body)[\"title\"])"
   ]
  },
  {
   "cell_type": "markdown",
   "metadata": {
    "slideshow": {
     "slide_type": "slide"
    }
   },
   "source": [
    "# Upload a DataFrame of returns from CSV file to LUSID"
   ]
  },
  {
   "cell_type": "code",
   "execution_count": null,
   "metadata": {
    "slideshow": {
     "slide_type": "fragment"
    }
   },
   "outputs": [],
   "source": [
    "returns_df = pd.read_csv(\"data/performance_data.csv\", dtype={\"daily_returns\": np.int64})\n",
    "returns_df[\"date\"] = pd.to_datetime(returns_df[\"date\"], format=\"%d/%m/%Y\")\n",
    "returns_df = returns_df.rename(\n",
    "    columns={\"mv\": \"market_value\", \"returns\": \"daily_returns\"}\n",
    ")\n",
    "\n",
    "returns_df.head()"
   ]
  },
  {
   "cell_type": "markdown",
   "metadata": {
    "slideshow": {
     "slide_type": "fragment"
    }
   },
   "source": [
    "> <b> NOTE: We have truncated the upsert to 10 rows. Remove the cell below if you want to load all 2500+ rows of daily returns.</b>"
   ]
  },
  {
   "cell_type": "code",
   "execution_count": null,
   "metadata": {
    "slideshow": {
     "slide_type": "fragment"
    }
   },
   "outputs": [],
   "source": [
    "returns_df = returns_df[:10]"
   ]
  },
  {
   "cell_type": "code",
   "execution_count": null,
   "metadata": {
    "slideshow": {
     "slide_type": "slide"
    }
   },
   "outputs": [],
   "source": [
    "time_series_of_returns = [\n",
    "    models.PerformanceReturn(\n",
    "        effective_at=row[\"date\"].isoformat()[:10],\n",
    "        rate_of_return=row[\"daily_returns\"],\n",
    "        closing_market_value=row[\"market_value\"],\n",
    "        period=\"Daily\",\n",
    "    )\n",
    "    for _, row in returns_df.iterrows()\n",
    "]\n",
    "\n",
    "return_code = \"daily_return\"\n",
    "\n",
    "upsert_returns = portfolios_api.upsert_portfolio_returns(\n",
    "    scope=scope,\n",
    "    code=portfolio_code,\n",
    "    return_code=return_code,\n",
    "    return_scope=scope,\n",
    "    performance_return=time_series_of_returns,\n",
    ")"
   ]
  },
  {
   "cell_type": "markdown",
   "metadata": {
    "slideshow": {
     "slide_type": "slide"
    }
   },
   "source": [
    "# Retrieve returns from LUSID"
   ]
  },
  {
   "cell_type": "code",
   "execution_count": null,
   "metadata": {
    "slideshow": {
     "slide_type": "fragment"
    }
   },
   "outputs": [],
   "source": [
    "from_effective_at = datetime(year=2013, month=12, day=31, tzinfo=pytz.utc).isoformat()\n",
    "to_effective_at = datetime(year=2020, month=5, day=3, tzinfo=pytz.utc).isoformat()\n",
    "\n",
    "returns = portfolios_api.get_portfolio_aggregated_returns(\n",
    "    scope=scope,\n",
    "    code=portfolio_code,\n",
    "    aggregated_returns_request={\n",
    "        \"metrics\": [\n",
    "            {\"window\": \"1D\"},\n",
    "            {\"window\": \"INC\"},\n",
    "            {\"window\": \"WTD\"},\n",
    "            {\"window\": \"MTD\"},\n",
    "            {\"window\": \"QTD\"},\n",
    "            {\"window\": \"YTD\"},\n",
    "            {\"window\": \"1M-ROLLING\"},\n",
    "            {\"window\": \"3M-ROLLING\"},\n",
    "            {\"window\": \"1Y-ROLLING\"},\n",
    "            {\"window\": \"SINCE(2014-03-19)\"},\n",
    "            {\"window\": \"INC\", \"annualised\": \"true\", \"alias\": \"ANNUALISED(INC)\"},\n",
    "            {\"window\": \"5Y-ROLLING\", \"annualised\": \"true\", \"alias\": \"ANNUALISED(5Y-ROLLING)\"},\n",
    "        ],\n",
    "        \"returnIds\": [{\"code\": return_code, \"scope\": scope}],\n",
    "        \"recipeId\": {\"code\": \"FxRates\", \"scope\": scope},\n",
    "        \"period\": \"Daily\",\n",
    "        \"outputFrequency\": \"Daily\",\n",
    "    },\n",
    "    from_effective_at=from_effective_at,\n",
    "    to_effective_at=to_effective_at,\n",
    ")"
   ]
  },
  {
   "cell_type": "code",
   "execution_count": null,
   "metadata": {
    "slideshow": {
     "slide_type": "slide"
    }
   },
   "outputs": [],
   "source": [
    "data = returns.results[f\"{scope}/{return_code}\"]\n",
    "\n",
    "summary_df = pd.DataFrame(\n",
    "    columns=[\n",
    "        \"date\",\n",
    "        \"opening_mv\",\n",
    "        \"closing_mv\",\n",
    "        \"day\",\n",
    "        \"inception\",\n",
    "        \"mtd\",\n",
    "        \"ytd\",\n",
    "        \"qtd\",\n",
    "        \"wtd\",\n",
    "        \"1m-rolling\",\n",
    "        \"3m-rolling\",\n",
    "        \"1y-rolling\",\n",
    "        \"since_20140319\",\n",
    "        \"annualised_inc\",\n",
    "        \"annualised_5y-rolling\",\n",
    "    ]\n",
    ")\n",
    "def make_row(item):\n",
    "    row = {}\n",
    "    row[\"date\"] = item.effective_at.strftime(format=\"%Y-%m-%d\")\n",
    "    row[\"opening_mv\"] = item.opening_market_value\n",
    "    row[\"closing_mv\"] = item.opening_market_value\n",
    "    row[\"day\"] = item.metrics_value.get(\"1D\")\n",
    "    row[\"inception\"] = item.metrics_value.get(\"INC\")\n",
    "    row[\"mtd\"] = item.metrics_value.get(\"MTD\")\n",
    "    row[\"ytd\"] = item.metrics_value.get(\"YTD\")\n",
    "    row[\"qtd\"] = item.metrics_value.get(\"QTD\")\n",
    "    row[\"wtd\"] = item.metrics_value.get(\"WTD\")\n",
    "    row[\"1m\"] = item.metrics_value.get(\"1M-ROLLING\")\n",
    "    row[\"3m\"] = item.metrics_value.get(\"3M-ROLLING\")\n",
    "    row[\"1y\"] = item.metrics_value.get(\"1Y-ROLLING\")\n",
    "    row[\"since_20140319\"] = item.metrics_value.get(\"SINCE(2014-03-19)\")\n",
    "    row[\"annualised_inc\"] = item.metrics_value.get(\"ANNUALISED(INC)\")\n",
    "    row[\"annualised_5y\"] = item.metrics_value.get(\"ANNUALISED(5Y-ROLLING)\")\n",
    "    return row\n",
    "\n",
    "summary_df = pd.concat([summary_df,pd.DataFrame((make_row(item) for item in data))]).reset_index(drop=True)\n",
    "    \n",
    "summary_df.tail(10)"
   ]
  },
  {
   "cell_type": "code",
   "execution_count": null,
   "metadata": {
    "slideshow": {
     "slide_type": "slide"
    }
   },
   "outputs": [],
   "source": [
    "def time_series_performance():\n",
    "    ts_performance = summary_df.plot(y=[\"inception\"], figsize=(12, 9))\n",
    "    ts_performance.set_title(\n",
    "        f\"Performance of {portfolio_code} since inception\",\n",
    "        fontsize=\"large\",\n",
    "    )\n",
    "    ts_performance.set_ylabel(\"Performance in %\", fontsize=\"large\")\n",
    "    ts_performance.set_xlabel(\"Days since inception\", fontsize=\"large\")\n",
    "    ts_performance.legend(prop={\"size\": 12})\n",
    "    \n",
    "time_series_performance()"
   ]
  },
  {
   "cell_type": "markdown",
   "metadata": {
    "slideshow": {
     "slide_type": "slide"
    }
   },
   "source": [
    "# Returns Dashboard"
   ]
  },
  {
   "cell_type": "markdown",
   "metadata": {
    "slideshow": {
     "slide_type": "fragment"
    }
   },
   "source": [
    "To view the returns loaded above, navigate to the following link:"
   ]
  },
  {
   "cell_type": "code",
   "execution_count": null,
   "metadata": {
    "scrolled": true,
    "slideshow": {
     "slide_type": "fragment"
    }
   },
   "outputs": [],
   "source": [
    "import os\n",
    "api_url = os.getenv(\"FBN_LUSID_API_URL\")\n",
    "url = f\"{api_url[:-3]}app/dashboard/returns?dateFrom=2013-12-31T00:00:00.000Z&dateTo=2022-11-29T23:59:59.999Z&frequency=Daily&compositeMethod=Asset&period=Daily&scope=returns&code=UK_EQUITY&entityType=Portfolio&returnsScope=returns&returnsCode=daily_return\"\n",
    "           \n",
    "print(url)    "
   ]
  }
 ],
 "metadata": {
  "celltoolbar": "Slideshow",
  "kernelspec": {
   "display_name": "Python 3",
   "language": "python",
   "name": "python3"
  },
  "language_info": {
   "codemirror_mode": {
    "name": "ipython",
    "version": 3
   },
   "file_extension": ".py",
   "mimetype": "text/x-python",
   "name": "python",
   "nbconvert_exporter": "python",
   "pygments_lexer": "ipython3",
   "version": "3.9.6"
  },
  "vscode": {
   "interpreter": {
    "hash": "1a1af0ee75eeea9e2e1ee996c87e7a2b11a0bebd85af04bb136d915cefc0abce"
   }
  }
 },
 "nbformat": 4,
 "nbformat_minor": 4
}
