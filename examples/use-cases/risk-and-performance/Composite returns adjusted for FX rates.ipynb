{
 "cells": [
  {
   "cell_type": "code",
   "execution_count": null,
   "metadata": {},
   "outputs": [],
   "source": [
    "from lusidtools.jupyter_tools import toggle_code\n",
    "\n",
    "\"\"\"Loading and caculating returns\n",
    "\n",
    "Demonstration of how to get aggregate returns adjusted by FX performance\n",
    "\n",
    "Attributes\n",
    "----------\n",
    "Returns\n",
    "Composite portfolios\n",
    "FX performance\n",
    "\"\"\"\n",
    "\n",
    "toggle_code(\"Toggle Docstring\")"
   ]
  },
  {
   "cell_type": "code",
   "execution_count": null,
   "metadata": {},
   "outputs": [],
   "source": [
    "# %load_ext lab_black\n",
    "# %load_ext nb_black"
   ]
  },
  {
   "cell_type": "markdown",
   "metadata": {},
   "source": [
    "# 1. Loading and calculating composite returns in LUSID\n",
    "\n",
    "In this notebook we show how composite returns can be adjusted for FX rates where there is a difference in base currency between a composite and its child portfolios. For the purposes of this example we consider a USD composite which tracks a GBP portfolio only throughout January 2020. We show that the GBP portfolio performs slightly better throughout Jan (due to FX rates) even though both portfolios have exposure to the exact same underlying assets."
   ]
  },
  {
   "cell_type": "markdown",
   "metadata": {},
   "source": [
    "# 2. Setup"
   ]
  },
  {
   "cell_type": "code",
   "execution_count": null,
   "metadata": {},
   "outputs": [],
   "source": [
    "# Import general purpose packages\n",
    "import os\n",
    "import json\n",
    "import pandas as pd\n",
    "import numpy as np\n",
    "import datetime\n",
    "import pytz\n",
    "import warnings\n",
    "\n",
    "warnings.filterwarnings(\"ignore\", module=\"matplotlib*\")\n",
    "\n",
    "import matplotlib.pyplot as plt\n",
    "\n",
    "from datetime import datetime, timedelta\n",
    "from pandas import json_normalize\n",
    "\n",
    "# Import lusid specific packages\n",
    "import lusid\n",
    "import lusid.models as models\n",
    "\n",
    "from lusid.utilities import ApiClientFactory\n",
    "from lusidjam.refreshing_token import RefreshingToken\n",
    "\n",
    "# Set display configuration\n",
    "pd.set_option(\"display.max_columns\", None)\n",
    "pd.set_option(\"display.float_format\", lambda x: \"%.5f\" % x)\n",
    "pd.set_option(\"display.max_rows\", 3500)\n",
    "pd.set_option(\"max_colwidth\", 20)\n",
    "\n",
    "# Use line magic function to enable matplotlib to work interactively with iPython\n",
    "%matplotlib inline\n",
    "\n",
    "# Set style to fivethirtyeight to create clean and clear looking graphs\n",
    "plt.style.use(\"fivethirtyeight\")\n",
    "\n",
    "# Define a dictionary containing default plotting configurations\n",
    "params = {\n",
    "    \"legend.fontsize\": \"small\",\n",
    "    \"figure.figsize\": (12, 4.5),\n",
    "    \"axes.labelsize\": \"small\",\n",
    "    \"axes.titlesize\": \"medium\",\n",
    "    \"xtick.labelsize\": \"small\",\n",
    "    \"ytick.labelsize\": \"small\",\n",
    "}\n",
    "\n",
    "plt.rcParams.update(params)\n",
    "\n",
    "# Authenticate our user and create our API client\n",
    "secrets_path = os.getenv(\"FBN_SECRETS_PATH\")\n",
    "\n",
    "# Initiate an API Factory which is the client side object for interacting with LUSID APIs\n",
    "api_factory = lusid.utilities.ApiClientFactory(\n",
    "    token=RefreshingToken(),\n",
    "    api_secrets_filename=secrets_path,\n",
    "    app_name=\"LusidJupyterNotebook\",\n",
    ")\n",
    "\n",
    "api_status = pd.DataFrame(\n",
    "    api_factory.build(lusid.api.ApplicationMetadataApi).get_lusid_versions().to_dict()\n",
    ")\n",
    "\n",
    "display(api_status)"
   ]
  },
  {
   "cell_type": "code",
   "execution_count": null,
   "metadata": {},
   "outputs": [],
   "source": [
    "# Define a scope to hold data\n",
    "\n",
    "scope = \"CompositeFxDemo\""
   ]
  },
  {
   "cell_type": "code",
   "execution_count": null,
   "metadata": {},
   "outputs": [],
   "source": [
    "# define the two portfolios\n",
    "\n",
    "portfolio_codes = [(\"ukEquity\", \"GBP\"), (\"composite\", \"USD\")]\n",
    "\n",
    "equity_portfolio, composite_portfolio = (\n",
    "    portfolio_codes[0][0],\n",
    "    portfolio_codes[1][0],\n",
    ")"
   ]
  },
  {
   "cell_type": "code",
   "execution_count": null,
   "metadata": {},
   "outputs": [],
   "source": [
    "# Define the APIs we use\n",
    "\n",
    "transaction_portfolios_api = api_factory.build(lusid.api.TransactionPortfoliosApi)\n",
    "portfolios_api = api_factory.build(lusid.api.PortfoliosApi)\n",
    "properties_api = api_factory.build(lusid.api.PropertyDefinitionsApi)\n",
    "relationship_definition_api = api_factory.build(lusid.api.RelationshipDefinitionsApi)\n",
    "relationships_api = api_factory.build(lusid.api.RelationshipsApi)\n",
    "quotes_api = api_factory.build(lusid.api.QuotesApi)\n",
    "configuration_recipe_api = api_factory.build(lusid.api.ConfigurationRecipeApi)"
   ]
  },
  {
   "cell_type": "markdown",
   "metadata": {},
   "source": [
    "# 3. Portfolio and relationships setup\n",
    "\n",
    "In this section we create two portfolios and a relationship between them.\n",
    "\n",
    "## 3.1 Create two portfolios\n",
    "\n",
    "1. UK Equity Portfolio (base currency = GBP)\n",
    "2. [Composite Portfolio](https://support.lusid.com/knowledgebase/article/KA-01730/en-us) (base currency = USD)"
   ]
  },
  {
   "cell_type": "code",
   "execution_count": null,
   "metadata": {},
   "outputs": [],
   "source": [
    "for port, base_currency in portfolio_codes:\n",
    "\n",
    "    try:\n",
    "\n",
    "        response = transaction_portfolios_api.create_portfolio(\n",
    "            scope=scope,\n",
    "            create_transaction_portfolio_request=models.CreateTransactionPortfolioRequest(\n",
    "                display_name=port,\n",
    "                code=port,\n",
    "                created=\"2019-12-31\",\n",
    "                base_currency=base_currency,\n",
    "            ),\n",
    "        )\n",
    "    except lusid.ApiException as e:\n",
    "        print(json.loads(e.body)[\"title\"])"
   ]
  },
  {
   "cell_type": "markdown",
   "metadata": {},
   "source": [
    "## 3.2 Create a relationship definition\n",
    "\n",
    "In this section we create a relationship between the GBP parent portfolio, which \"holds\" the returns, and a composite portfolio which tracks the returns of the parent portfolio (i.e. the \"GBP portfolio\"). The composite portfolio has a base currency of USD which effectively allows us to get the USD adjusted returns of the parent portfolio.  \n",
    "\n",
    "> Important: This `CompositeMembership` relationship must be created in the `default` scope if you want to create a composite relationship in LUSID."
   ]
  },
  {
   "cell_type": "code",
   "execution_count": null,
   "metadata": {},
   "outputs": [],
   "source": [
    "relationship_scope = \"default\"\n",
    "relationship_code = \"CompositeMembership\""
   ]
  },
  {
   "cell_type": "code",
   "execution_count": null,
   "metadata": {},
   "outputs": [],
   "source": [
    "try:\n",
    "\n",
    "    relationship_definition_api.create_relationship_definition(\n",
    "        create_relationship_definition_request=models.CreateRelationshipDefinitionRequest(\n",
    "            scope=relationship_scope,\n",
    "            code=relationship_code,\n",
    "            source_entity_type=\"Portfolio\",\n",
    "            target_entity_type=\"Portfolio\",\n",
    "            display_name=\"Relationship for Composite Returns\",\n",
    "            outward_description=\"Relationship for Composite Returns\",\n",
    "            inward_description=\"Relationship for Composite Returns\",\n",
    "            life_time=\"TimeVariant\",\n",
    "        )\n",
    "    )\n",
    "\n",
    "except lusid.ApiException as e:\n",
    "    print(json.loads(e.body)[\"title\"])"
   ]
  },
  {
   "cell_type": "markdown",
   "metadata": {},
   "source": [
    "## 3.3 Create relationship between the composite and investment portfolio effective from 12 Dec 2019\n",
    "\n",
    "In this section we create a [Relationship](https://support.lusid.com/knowledgebase/article/KA-01679/en-us) which forms the link between the GBP investment portfolio and the USD composite."
   ]
  },
  {
   "cell_type": "code",
   "execution_count": null,
   "metadata": {},
   "outputs": [],
   "source": [
    "create_relationship_response = relationships_api.create_relationship(\n",
    "    scope=relationship_scope,\n",
    "    code=relationship_code,\n",
    "    create_relationship_request=models.CreateRelationshipRequest(\n",
    "        source_entity_id={\"scope\": scope, \"code\": composite_portfolio},\n",
    "        target_entity_id={\"scope\": scope, \"code\": equity_portfolio},\n",
    "        effective_from=\"2019-12-31\",\n",
    "    ),\n",
    ")"
   ]
  },
  {
   "cell_type": "markdown",
   "metadata": {},
   "source": [
    "# 4. Load returns and FX data\n",
    "\n",
    "In this section we load returns data into the returns store and fx price data into the quotes store. Both sets of data are loaded from CSV files.\n",
    "\n",
    "For some background, LUSID allows you to load individual daily returns and then aggregate them up over a set time horizon to generate metrics such as:\n",
    "\n",
    "* Returns since inception\n",
    "* Returns since start-of-year\n",
    "* Returns since start-of-month\n",
    "\n",
    "See the linked page for more details on [performance returns](https://support.lusid.com/knowledgebase/article/KA-01675/en-us) in LUSID. \n",
    "\n",
    "\n",
    "## 4.1 Load returns from CSV file into DataFrame"
   ]
  },
  {
   "cell_type": "code",
   "execution_count": null,
   "metadata": {},
   "outputs": [],
   "source": [
    "returns_df = pd.read_csv(\n",
    "    \"data/multi-currency-returns/returns.csv\", dtype={\"daily_returns\": np.int64}\n",
    ")\n",
    "returns_df[\"date\"] = pd.to_datetime(returns_df[\"date\"], format=\"%d/%m/%Y\", utc=True)\n",
    "returns_df = returns_df.rename(\n",
    "    columns={\"mv\": \"market_value\", \"returns\": \"daily_returns\"}\n",
    ")"
   ]
  },
  {
   "cell_type": "markdown",
   "metadata": {},
   "source": [
    "## 4.2 Load returns from DataFrame into LUSID"
   ]
  },
  {
   "cell_type": "code",
   "execution_count": null,
   "metadata": {},
   "outputs": [],
   "source": [
    "from_effective_at = \"2020-01-01\"\n",
    "to_effective_at = \"2020-01-31\"\n",
    "return_code = \"daily_return\"\n",
    "list_of_portfolios = [equity_portfolio, composite_portfolio]\n",
    "recipe_code = \"FxRates\"\n",
    "returns_df[\"portfolio\"] = equity_portfolio"
   ]
  },
  {
   "cell_type": "code",
   "execution_count": null,
   "metadata": {},
   "outputs": [],
   "source": [
    "returns_df.head(5)"
   ]
  },
  {
   "cell_type": "code",
   "execution_count": null,
   "metadata": {},
   "outputs": [],
   "source": [
    "for portfolio, df in [(equity_portfolio, returns_df)]:\n",
    "\n",
    "    time_series_of_returns = [\n",
    "        models.PerformanceReturn(\n",
    "            effective_at=row[\"date\"].isoformat(),\n",
    "            rate_of_return=row[\"daily_returns\"],\n",
    "            opening_market_value=row[\"market_value\"],\n",
    "            period=\"Daily\",\n",
    "        )\n",
    "        for _, row in df.iterrows()\n",
    "    ]\n",
    "\n",
    "    upsert_returns = portfolios_api.upsert_portfolio_returns(\n",
    "        scope=scope,\n",
    "        code=portfolio,\n",
    "        return_code=return_code,\n",
    "        return_scope=scope,\n",
    "        performance_return=time_series_of_returns,\n",
    "    )"
   ]
  },
  {
   "cell_type": "markdown",
   "metadata": {},
   "source": [
    "## 4.3 Upload FX rates"
   ]
  },
  {
   "cell_type": "code",
   "execution_count": null,
   "metadata": {},
   "outputs": [],
   "source": [
    "fx_df = pd.read_csv(\"data/multi-currency-returns/fx-rates.csv\")\n",
    "fx_df[\"date\"] = pd.to_datetime(fx_df[\"date\"], format=\"%d/%m/%Y\")\n",
    "\n",
    "\n",
    "fx_rates = {\n",
    "    f\"upsert_request_{row['date']}\": models.UpsertQuoteRequest(\n",
    "        quote_id=models.QuoteId(\n",
    "            quote_series_id=models.QuoteSeriesId(\n",
    "                provider=\"Lusid\",\n",
    "                instrument_id=\"GBP/USD\",\n",
    "                instrument_id_type=\"CurrencyPair\",\n",
    "                quote_type=\"Price\",\n",
    "                field=\"mid\",\n",
    "            ),\n",
    "            effective_at=row[\"date\"].isoformat()[:10] + \"T18:00:00Z\",\n",
    "        ),\n",
    "        metric_value=models.MetricValue(value=row[\"gbp_usd_fx\"], unit=\"USD\"),\n",
    "    )\n",
    "    for _, row in fx_df.iterrows()\n",
    "}\n",
    "\n",
    "\n",
    "# Upsert the quotes into LUSID\n",
    "response = quotes_api.upsert_quotes(scope=scope, request_body=fx_rates)"
   ]
  },
  {
   "cell_type": "markdown",
   "metadata": {},
   "source": [
    "## 4.4 Create recipe for FX rates\n",
    "\n",
    "Here we create a recipe which can read the quotes uploaded in the previous section."
   ]
  },
  {
   "cell_type": "code",
   "execution_count": null,
   "metadata": {},
   "outputs": [],
   "source": [
    "# Create a recipe to perform a valuation\n",
    "\n",
    "recipes = [(recipe_code, scope)]\n",
    "\n",
    "for recipe_code, data_scope in recipes:\n",
    "\n",
    "    configuration_recipe = models.ConfigurationRecipe(\n",
    "        scope=scope,\n",
    "        code=recipe_code,\n",
    "        market=models.MarketContext(\n",
    "            market_rules=[\n",
    "                models.MarketDataKeyRule(\n",
    "                    key=\"FX.CurrencyPair.*\",\n",
    "                    supplier=\"Lusid\",\n",
    "                    data_scope=data_scope,\n",
    "                    quote_type=\"Price\",\n",
    "                    field=\"mid\",\n",
    "                ),\n",
    "            ],\n",
    "        ),\n",
    "    )\n",
    "\n",
    "    upsert_configuration_recipe_response = (\n",
    "        configuration_recipe_api.upsert_configuration_recipe(\n",
    "            upsert_recipe_request=models.UpsertRecipeRequest(\n",
    "                configuration_recipe=configuration_recipe\n",
    "            )\n",
    "        )\n",
    "    )\n",
    "\n",
    "    print(f\"Uploaded recipe: {recipe_code}\")"
   ]
  },
  {
   "cell_type": "markdown",
   "metadata": {},
   "source": [
    "# 5. Get returns out of LUSID\n",
    "\n",
    "In this section we get the returns for the investment and composite portfolio and plot them against each other for January 2020.\n",
    "\n",
    "## 5.1 Call a table of returns data for our two portfolios \n",
    "\n",
    "The linked [support page](https://support.lusid.com/knowledgebase/article/KA-01675/en-us) contains details on configuring different returns metrics."
   ]
  },
  {
   "cell_type": "code",
   "execution_count": null,
   "metadata": {},
   "outputs": [],
   "source": [
    "since = \"YYYY-12-31\""
   ]
  },
  {
   "cell_type": "code",
   "execution_count": null,
   "metadata": {},
   "outputs": [],
   "source": [
    "def get_returns_since_inception(portfolio_code):\n",
    "\n",
    "    returns = portfolios_api.get_portfolio_aggregated_returns(\n",
    "        scope=scope,\n",
    "        code=portfolio_code,\n",
    "        aggregated_returns_request={\n",
    "            \"metrics\": [{\"window\": f\"SINCE({since})\"}],\n",
    "            \"returnIds\": [{\"code\": return_code, \"scope\": scope}],\n",
    "            \"recipeId\": {\"code\": \"FxRates\", \"scope\": scope},\n",
    "            \"period\": \"Daily\",\n",
    "            \"outputFrequency\": \"Daily\",\n",
    "        },\n",
    "        from_effective_at=from_effective_at,\n",
    "        to_effective_at=to_effective_at,\n",
    "    )\n",
    "\n",
    "    return returns"
   ]
  },
  {
   "cell_type": "code",
   "execution_count": null,
   "metadata": {},
   "outputs": [],
   "source": [
    "all_summary_df = pd.DataFrame(columns=[\"effective_at\", f\"metrics_value.SINCE({since})\"])\n",
    "\n",
    "\n",
    "for portfolio in list_of_portfolios:\n",
    "\n",
    "    portfolio_summary_df = pd.DataFrame(\n",
    "        columns=[\"effective_at\", f\"metrics_value.SINCE({since})\"]\n",
    "    )\n",
    "\n",
    "    returns = get_returns_since_inception(portfolio)\n",
    "\n",
    "    for item in returns.results[f\"{scope}/{return_code}\"]:\n",
    "\n",
    "        normalize_json = json_normalize(item.to_dict())\n",
    "        normalize_json = normalize_json.set_index(\"effective_at\").copy()\n",
    "        portfolio_summary_df = pd.concat(\n",
    "            [portfolio_summary_df, normalize_json]\n",
    "        ).reset_index(drop=True)\n",
    "\n",
    "    all_summary_df = all_summary_df.join(\n",
    "        portfolio_summary_df, rsuffix=f\"{portfolio}\", on=\"effective_at\", how=\"outer\"\n",
    "    )"
   ]
  },
  {
   "cell_type": "markdown",
   "metadata": {},
   "source": [
    "## 5.1 Format and clean returns results data"
   ]
  },
  {
   "cell_type": "code",
   "execution_count": null,
   "metadata": {},
   "outputs": [],
   "source": [
    "summary_columns = {\n",
    "    f\"metrics_value.SINCE({since})ukEquity\": \"ukEquity_GBP\",\n",
    "    f\"metrics_value.SINCE({since})composite\": \"composite_USD\",\n",
    "}"
   ]
  },
  {
   "cell_type": "code",
   "execution_count": null,
   "metadata": {},
   "outputs": [],
   "source": [
    "all_summary_df = (\n",
    "    all_summary_df[list(summary_columns.keys())].rename(columns=summary_columns).copy()\n",
    ")"
   ]
  },
  {
   "cell_type": "code",
   "execution_count": null,
   "metadata": {},
   "outputs": [],
   "source": [
    "all_summary_df.head(5)"
   ]
  },
  {
   "cell_type": "markdown",
   "metadata": {},
   "source": [
    "## 5.2 Plot the results in a time series"
   ]
  },
  {
   "cell_type": "code",
   "execution_count": null,
   "metadata": {},
   "outputs": [],
   "source": [
    "def time_series_performance():\n",
    "    ts_performance = all_summary_df.plot(\n",
    "        y=[\"ukEquity_GBP\", \"composite_USD\"], figsize=(12, 9)\n",
    "    )\n",
    "    ts_performance.set_title(\n",
    "        f\"Performance of Investment portfolio (GBP) versus Composite portfolio (USD) over January 2020\",\n",
    "        fontsize=\"medium\",\n",
    "    )\n",
    "    ts_performance.set_ylabel(\"Performance in %\", fontsize=\"large\")\n",
    "    ts_performance.set_xlabel(\"Days\", fontsize=\"large\")\n",
    "    ts_performance.legend(prop={\"size\": 12})"
   ]
  },
  {
   "cell_type": "markdown",
   "metadata": {},
   "source": [
    "In the time series below, we plot the performance of the GBP investment portfolio against the performance of the USD composite. Both portfolios have exposure to the exact same set of assets. Therefore the variation in performance can be explained by the moving GBP/USD fx rate. "
   ]
  },
  {
   "cell_type": "code",
   "execution_count": null,
   "metadata": {},
   "outputs": [],
   "source": [
    "time_series_performance()"
   ]
  }
 ],
 "metadata": {
  "kernelspec": {
   "display_name": "Python 3 (ipykernel)",
   "language": "python",
   "name": "python3"
  },
  "language_info": {
   "codemirror_mode": {
    "name": "ipython",
    "version": 3
   },
   "file_extension": ".py",
   "mimetype": "text/x-python",
   "name": "python",
   "nbconvert_exporter": "python",
   "pygments_lexer": "ipython3",
   "version": "3.9.6"
  }
 },
 "nbformat": 4,
 "nbformat_minor": 4
}
